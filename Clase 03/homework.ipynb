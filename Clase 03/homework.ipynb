{
 "cells": [
  {
   "cell_type": "markdown",
   "metadata": {},
   "source": [
    "## Homework\n",
    "\n",
    "1. Suponga dos eventos, A y B, y que P(A) = 0.50, P(B) = 0.60 y P(A ∩ B) = 0.40.<br>\n",
    "- a. Halle P(A | B).\n",
    "- b. Halle P(B | A).\n",
    "- c. ¿A y B son independientes? ¿Por qué sí o por qué no?"
   ]
  },
  {
   "cell_type": "markdown",
   "metadata": {},
   "source": [
    "2. Suponga dos eventos, A y B, que son mutuamente excluyentes. Admita, además, que P(A) = 0.30 y P(B) = 0.40.<br>\n",
    "- a. Obtenga P(A ∩ B). ¿Existe intersección entre los dos conjuntos?.\n",
    "- b. Calcule P(A | B).\n",
    "- c. Un estudiante de estadística argumenta que los conceptos de eventos mutuamente excluyentes y eventos independientes son en realidad lo mismo y que si los eventos son mutuamente excluyentes deben ser también independientes. ¿Está usted de acuerdo? Use la información sobre las probabilidades para justificar su respuesta.\n",
    "\n",
    "Dada la siguiente tabla:<br>\n",
    "![Sucesos](../_src/assets/sucesos.PNG)<br>"
   ]
  },
  {
   "cell_type": "markdown",
   "metadata": {},
   "source": [
    "3. Si en la concesionaria se seleccionan dos ventas con reposición (los sucesos son independientes), hallar la probabilidad de que las ventas sean:<br>\n",
    " \n",
    "  - a. La primera de un comprador de “menos de 40 años” y la segunda de uno de \"entre 40 y 50 años\". \n",
    "  \n",
    "  - b. Las dos sean de autos \"nacionales\"."
   ]
  },
  {
   "cell_type": "markdown",
   "metadata": {},
   "source": [
    "4. Si la selección de las dos ventas se realiza SIN reposición (los sucesos son condicionales), hallar la probabilidad de que las ventas sean:<br>\n",
    "\n",
    " - a. La primera de un comprador de “menos de 40 años” y la segunda de uno de \"entre 40 y 50 años\".\n",
    "\n",
    " - b. Las dos sean de autos \"nacionales\"."
   ]
  },
  {
   "cell_type": "markdown",
   "metadata": {},
   "source": [
    "5. Si la selección de las dos ventas se realiza SIN reposición (los sucesos son condicionales),  hallar la probabilidad de que las ventas sean:<br>\n",
    "    \n",
    " - a. De un comprador de “menos de 40 años” y de uno de \"entre 40 y 50 años\", sin importar el orden."
   ]
  },
  {
   "cell_type": "markdown",
   "metadata": {},
   "source": [
    " 6. Debido al aumento de los costos de los seguros, en un país con 43 millones de personas, hay personas que no cuentan con un seguro médico. En la tabla siguiente se muestran datos muestrales representativos de la cantidad de personas que cuentan con seguro médico:<br>\n",
    " ![Seguro](../_src/assets/seguro.PNG)\n",
    "\n",
    "- a. Con estos datos elabore una tabla de probabilidad conjunta y úsela para responder las preguntas restantes.\n",
    "- b. ¿Qué indican las probabilidades marginales acerca de la edad de la población?\n",
    "- c. ¿Cuál es la probabilidad de que una persona tomada en forma aleatoria no tenga seguro médico?\n",
    "- d. Si la persona tiene entre 18 y 34 años, ¿cuál es la probabilidad de que no tenga seguro médico?\n",
    "- e. Si la persona tiene 35 años o más, ¿cuál es la probabilidad de que no tenga seguro médico?\n",
    "- f. Si la persona no tiene seguro médico, ¿cuál es la probabilidad de que tenga entre 18 y 34 años?"
   ]
  },
  {
   "cell_type": "markdown",
   "metadata": {},
   "source": [
    "#### Puedes complementar con los ejercicios del 33 al 40 del Capitula 4 del libro \"ESTADÍSTICA PARA ADMINISTRACIÓN Y ECONOMÍA\""
   ]
  },
  {
   "cell_type": "markdown",
   "metadata": {},
   "source": [
    "33. Una muestra de estudiantes de la maestría en administración de negocios, arrojó la siguiente información sobre la principal razón que tuvieron los estudiantes para elegir la escuela en donde hacen sus estudios.\n",
    "\n",
    "(Grafico en pagina 169)\n",
    "\n",
    "- a. Con estos datos elabore una tabla de probabilidad conjunta.\n",
    "- b. Use las probabilidades marginales: calidad de la escuela, costo de la escuela y otras para comentar cuál es la principal razón por la que eligen una escuela.\n",
    "- c. Si es un estudiante de tiempo completo, ¿cuál es la probabilidad de que la principal razón para su elección de la escuela haya sido la calidad de la escuela?\n",
    "- d. Si es un estudiante de medio tiempo, ¿cuál es la probabilidad de que la principal razón para su elección de la escuela haya sido la calidad de la escuela?\n",
    "- e. Si A denota el evento es estudiante de tiempo completo y B denota el evento la calidad de la escuela fue la primera razón para su elección, ¿son independientes los eventos A y B? Justifique su respuesta."
   ]
  },
  {
   "cell_type": "markdown",
   "metadata": {},
   "source": [
    "34. La tabla siguiente muestra las probabilidades de los distintos tipos sanguíneo en la población.\n",
    "\n",
    "(Gráfico en página 170)\n",
    "- a. ¿Cuál es la probabilidad de que una persona tenga sangre tipo O?\n",
    "- b. ¿De que tenga sangre Rh-?\n",
    "- c. ¿Cuál es la probabilidad de que una persona sea Rh- dado que la persona tiene sangre tipo O?\n",
    "- d. ¿Cuál es la probabilidad de que una persona tenga sangre tipo B dado que es Rh+?\n",
    "- e. ¿Cuál es la probabilidad de que en un matrimonio, los dos sean Rh-?\n",
    "- f. ¿Cuál es la probabilidad de que en un matrimonio, los dos tengan sangre AB?"
   ]
  },
  {
   "cell_type": "markdown",
   "metadata": {},
   "source": [
    "35. El Departamento de Estadística Laboral de Estados Unidos reúne datos sobre las ocupaciones de las personas entre 25 y 64 años. La tabla siguiente presenta el número de hombres y mujeres (en millones) en cada una de las categorías ocupacionales.\n",
    "\n",
    "(Gráfico en página 170)\n",
    "\n",
    "- a. Desarrolle una tabla de probabilidad conjunta.\n",
    "- b. ¿Cuál es la probabilidad de que un trabajador mujer sea directivo o profesional?\n",
    "- c. ¿Cuál es la probabilidad de que un trabajador hombre esté en producción con precisión?\n",
    "- d. ¿Es la ocupación independiente del género? Justifique su respuesta con el cálculo de la probabilidad."
   ]
  },
  {
   "cell_type": "markdown",
   "metadata": {},
   "source": [
    "36. Reggie Miller de los Indiana Pacers tiene el record de la National Basketball Association de máscanastas de 3 puntos anotadas en toda una carrera, acertando en 85% de sus tiros (USA Today, 22 de enero de 2004). Suponga que ya casi al final de un juego cometen una falta contra él y le conceden dos tiros.\n",
    "\n",
    "- a. ¿Cuál es la probabilidad de que acierte en los dos tiros?\n",
    "- b. ¿De que acierte en por lo menos uno de los dos tiros?\n",
    "- c. ¿De que no acierte en ninguno de los dos tiros?\n",
    "- d. Al final de un juego de básquetbol suele ocurrir que cometan faltas contra un jugador del equipo opuesto para detener el reloj del juego. La estrategia usual es cometer una falta contra el peor tirador del otro equipo. Suponga que el centro de los Indiana Pacers acierta 58% de sus tiros. Calcule para él las probabilidades calculadas en los incisos a, b y c y muestre que hacer una falta intencional contra el centro de los Indiana Pacers es mejor que hacerlo contra Reggie Miller."
   ]
  },
  {
   "cell_type": "markdown",
   "metadata": {},
   "source": [
    "37. Visa Card de Estados Unidos estudia con qué frecuencia usan sus tarjetas (de débito y de crédito) los consumidores jóvenes, entre 18 y 24 años. Los resultados del estudio proporcionan las probabilidades siguientes.\n",
    "\n",
    "• La probabilidad de que un consumidor use su tarjeta al hacer una compra es 0.37.\n",
    "\n",
    "• Dado que un consumidor usa su tarjeta, la probabilidad de que tenga entre 18 y 24 años es 0.19.\n",
    "\n",
    "• Puesto que un consumidor usa su tarjeta, la probabilidad de que sea mayor de 24 años es 0.81.\n",
    "\n",
    "Datos de la Oficina de Censos de Estados Unidos indican que 14% de los consumidores tienen entre 18 y 24 años.\n",
    "\n",
    "- a. Ya que un consumidor tiene entre 18 y 24 años, ¿cuál es la probabilidad de que use su tarjeta?\n",
    "- b. Dado que un consumidor tiene más de 24 años, ¿cuál es la probabilidad de que use su tarjeta?\n",
    "- c. ¿Qué interpretación se le da a las probabilidades de los incisos a y b?\n",
    "- d. ¿Empresas como Visa, Master Card y Discover deben proporcionar tarjetas a los consumidores entre 18 y 24 años, antes de que tengan una historia crediticia? Si no, explique. Si sí, ¿qué restricciones deben poner las empresas a estos consumidores?"
   ]
  },
  {
   "cell_type": "markdown",
   "metadata": {},
   "source": [
    "38. En un estudio de Morgan Stanley Consumer Research se muestrearon hombres y mujeres y se les preguntó qué preferían tomar: agua de botella o una bebida deportiva como Gatorade o Propel Fitness (The Atlanta Journal-Constitution, 28 de diciembre de 2005). Suponga que en el estudio hayan participado 200 hombres y 200 mujeres y que de todos 280 hayan preferido el agua de botella. En el grupo de los que preferían bebidas deportivas, 80 eran hombres y 40 eran mujeres. Sea:\n",
    "\n",
    "M = el evento el consumidor es hombre\n",
    "\n",
    "W = el evento el consumidor es mujer\n",
    "\n",
    "B = el evento el consumidor prefiere agua de botella\n",
    "\n",
    "S = el evento el consumidor prefiere una bebida deportiva\n",
    "\n",
    "- a. ¿Cuál es la probabilidad de que en este estudio una persona prefiera agua de botella?\n",
    "- b. ¿De que en este estudio una persona prefiera una bebida deportiva?\n",
    "- c. ¿Cuáles son las probabilidades condicionales P(M | S) y P(W | S)?\n",
    "- d. ¿Cuáles son las probabilidades conjuntas P(M ∩ S) y P(W ∩ S)?\n",
    "- e. Dado que un consumidor es hombre, ¿cuál es la probabilidad de que prefiera una bebida deportiva?\n",
    "- f. Ya que un consumidor es mujer, ¿cuál es la probabilidad de que prefiera una bebida deportiva?\n",
    "- g. ¿Depende la preferencia por una bebida deportiva de que el consumidor sea hombre o mujer? Explique usando la información sobre las probabilidades."
   ]
  },
  {
   "cell_type": "markdown",
   "metadata": {},
   "source": [
    "39. Las probabilidades previas de los eventos A1 y A2 son P(A1) = 0.40 y P(A2) = 0.60. Sabe también que P(A1 ∩ A2) = 0. Suponga que P(B | A1) =  0.20 y P(B | A2) = 0.05.\n",
    "- a. ¿A1 y A2 son eventos mutuamente excluyentes? Explique.\n",
    "- b. Calcule P(A1 ∩ B) y P(A2 ∩ B).\n",
    "- c. Calcule P(B).\n",
    "- d. Emplee el teorema de Bayes para calcular P(A1 | B) y P(A2 | B)."
   ]
  },
  {
   "cell_type": "markdown",
   "metadata": {},
   "source": [
    "40. Las probabilidades previas de los eventos A1, A2 y A3 son P(A1) = 0.20, P(A2) = 0.50 y P(A3) = 0.30. Las probabilidades condicionales del evento B dados los eventos A1,A2 y A3 son P(B | A1) = 0.50, P(B | A2) = 0.40 y P(B | A3) = 0.30.\n",
    "- a. Calcule P(B ∩ A1), P(B ∩ A2) y P(B ∩ A3).\n",
    "- b. Emplee el teorema de Bayes, ecuación (4.19), para calcular la probabilidad posterior P(A2 | B).\n",
    "- c. Use el método tabular para emplear el teorema de Bayes en el cálculo de P(A1 | B), P(A2 | B) y P(A3 | B)."
   ]
  }
 ],
 "metadata": {
  "kernelspec": {
   "display_name": "Python 3.10.5 64-bit",
   "language": "python",
   "name": "python3"
  },
  "language_info": {
   "name": "python",
   "version": "3.10.5"
  },
  "orig_nbformat": 4,
  "vscode": {
   "interpreter": {
    "hash": "8030d4c8b54922542ddcca872d6eaa3b90843e3fd85d80bb02c262de6532e63b"
   }
  }
 },
 "nbformat": 4,
 "nbformat_minor": 2
}
