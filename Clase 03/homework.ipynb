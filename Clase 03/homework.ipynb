{
 "cells": [
  {
   "cell_type": "markdown",
   "metadata": {},
   "source": [
    "## Homework\n",
    "\n",
    "1. Suponga dos eventos, A y B, y que P(A) = 0.50, P(B) = 0.60 y P(A ∩ B) = 0.40.<br>\n",
    "- a. Halle P(A | B).\n",
    "- b. Halle P(B | A).\n",
    "- c. ¿A y B son independientes? ¿Por qué sí o por qué no?"
   ]
  },
  {
   "cell_type": "code",
   "execution_count": 3,
   "metadata": {},
   "outputs": [
    {
     "name": "stdout",
     "output_type": "stream",
     "text": [
      "0.6666666666666667\n",
      "0.8\n",
      "Para que sean independientes, no tendría que haber una relación entre ellos\n",
      " Si fuesen independientes, la intersección de A y B debería ser A*B, debería salir 0.3\n",
      " pero como sale 0.4, entonces son dependientes\n"
     ]
    }
   ],
   "source": [
    "print(0.4/0.6)\n",
    "print(0.4/0.5)\n",
    "print(\"Para que sean independientes, no tendría que haber una relación entre ellos\\n\",\n",
    "    \"Si fuesen independientes, la intersección de A y B debería ser A*B, debería salir 0.3\\n\",\n",
    "    \"pero como sale 0.4, entonces son dependientes\")"
   ]
  },
  {
   "cell_type": "markdown",
   "metadata": {},
   "source": [
    "2. Suponga dos eventos, A y B, que son mutuamente excluyentes. Admita, además, que P(A) = 0.30 y P(B) = 0.40.<br>\n",
    "- a. Obtenga P(A ∩ B). ¿Existe intersección entre los dos conjuntos?.\n",
    "- b. Calcule P(A | B).\n",
    "- c. Un estudiante de estadística argumenta que los conceptos de eventos mutuamente excluyentes y eventos independientes son en realidad lo mismo y que si los eventos son mutuamente excluyentes deben ser también independientes. ¿Está usted de acuerdo? Use la información sobre las probabilidades para justificar su respuesta.\n",
    "\n",
    "Dada la siguiente tabla:<br>\n",
    "![Sucesos](../_src/assets/sucesos.PNG)<br>"
   ]
  },
  {
   "cell_type": "code",
   "execution_count": null,
   "metadata": {},
   "outputs": [],
   "source": [
    "#   a) No pueden tener intersección si son excluyentes.\n",
    "#   b) 0 por no tener intersección.\n",
    "#   c) Excluyentes es que no pueden ocurrir los 2 a la vez, independientes es que la ocurrencia de uno no afecta a otro.\n",
    "#       Si son excluyentes, quiere decir que la ocurrencia de uno, anula la ocurrencia del otro, lo que lo vuelve 100% dependiente\n",
    "#       por ende ningun conjunto excluyente es independiente, aunque este dato es muy poco relevante."
   ]
  },
  {
   "cell_type": "markdown",
   "metadata": {},
   "source": [
    "3. Si en la concesionaria se seleccionan dos ventas con reposición (los sucesos son independientes), hallar la probabilidad de que las ventas sean:<br>\n",
    " \n",
    "  - a. La primera de un comprador de “menos de 40 años” y la segunda de uno de \"entre 40 y 50 años\". \n",
    "  \n",
    "  - b. Las dos sean de autos \"nacionales\"."
   ]
  },
  {
   "cell_type": "code",
   "execution_count": 10,
   "metadata": {},
   "outputs": [
    {
     "name": "stdout",
     "output_type": "stream",
     "text": [
      "Problema 1\n",
      "0.159375\n",
      "\n",
      "problema2\n",
      "0.390625\n"
     ]
    }
   ],
   "source": [
    "print(\"Problema 1\")\n",
    "prob_a=30/80\n",
    "prob_b=34/80\n",
    "print(prob_a*prob_b)\n",
    "print(\"\\nproblema2\")\n",
    "prob_n=50/80\n",
    "print(prob_n**2)\n"
   ]
  },
  {
   "cell_type": "markdown",
   "metadata": {},
   "source": [
    "4. Si la selección de las dos ventas se realiza SIN reposición (los sucesos son condicionales), hallar la probabilidad de que las ventas sean:<br>\n",
    "\n",
    " - a. La primera de un comprador de “menos de 40 años” y la segunda de uno de \"entre 40 y 50 años\".\n",
    "\n",
    " - b. Las dos sean de autos \"nacionales\".<br>\n",
    " ![Sucesos](../_src/assets/sucesos.PNG)<br>"
   ]
  },
  {
   "cell_type": "code",
   "execution_count": 14,
   "metadata": {},
   "outputs": [
    {
     "name": "stdout",
     "output_type": "stream",
     "text": [
      "problema a) 0.16139240506329114\n",
      "problema b) 0.3876582278481012\n"
     ]
    }
   ],
   "source": [
    "print(\"problema a)\",(30/80)*(34/79))\n",
    "print(\"problema b)\",(50/80)*(49/79))"
   ]
  },
  {
   "cell_type": "markdown",
   "metadata": {},
   "source": [
    "5. Si la selección de las dos ventas se realiza SIN reposición (los sucesos son condicionales),  hallar la probabilidad de que las ventas sean:<br>\n",
    "    \n",
    " - a. De un comprador de “menos de 40 años” y de uno de \"entre 40 y 50 años\", sin importar el orden."
   ]
  },
  {
   "cell_type": "code",
   "execution_count": 16,
   "metadata": {},
   "outputs": [
    {
     "data": {
      "text/plain": [
       "0.32278481012658233"
      ]
     },
     "execution_count": 16,
     "metadata": {},
     "output_type": "execute_result"
    }
   ],
   "source": [
    "30/80*34/79+30/79*34/80"
   ]
  },
  {
   "cell_type": "markdown",
   "metadata": {},
   "source": [
    " 6. Debido al aumento de los costos de los seguros, en un país con 43 millones de personas, hay personas que no cuentan con un seguro médico. En la tabla siguiente se muestran datos muestrales representativos de la cantidad de personas que cuentan con seguro médico:<br>\n",
    " ![Seguro](../_src/assets/seguro.PNG)\n",
    "\n",
    "- a. Con estos datos elabore una tabla de probabilidad conjunta y úsela para responder las preguntas restantes.\n",
    "- b. ¿Qué indican las probabilidades marginales acerca de la edad de la población?\n",
    "- c. ¿Cuál es la probabilidad de que una persona tomada en forma aleatoria no tenga seguro médico?\n",
    "- d. Si la persona tiene entre 18 y 34 años, ¿cuál es la probabilidad de que no tenga seguro médico?\n",
    "- e. Si la persona tiene 35 años o más, ¿cuál es la probabilidad de que no tenga seguro médico?\n",
    "- f. Si la persona no tiene seguro médico, ¿cuál es la probabilidad de que tenga entre 18 y 34 años?"
   ]
  },
  {
   "cell_type": "code",
   "execution_count": 25,
   "metadata": {},
   "outputs": [
    {
     "data": {
      "text/html": [
       "<div>\n",
       "<style scoped>\n",
       "    .dataframe tbody tr th:only-of-type {\n",
       "        vertical-align: middle;\n",
       "    }\n",
       "\n",
       "    .dataframe tbody tr th {\n",
       "        vertical-align: top;\n",
       "    }\n",
       "\n",
       "    .dataframe thead th {\n",
       "        text-align: right;\n",
       "    }\n",
       "</style>\n",
       "<table border=\"1\" class=\"dataframe\">\n",
       "  <thead>\n",
       "    <tr style=\"text-align: right;\">\n",
       "      <th></th>\n",
       "      <th>Unnamed: 0</th>\n",
       "      <th>si</th>\n",
       "      <th>no</th>\n",
       "      <th>TOTAL</th>\n",
       "    </tr>\n",
       "  </thead>\n",
       "  <tbody>\n",
       "    <tr>\n",
       "      <th>0</th>\n",
       "      <td>18-34</td>\n",
       "      <td>750</td>\n",
       "      <td>170</td>\n",
       "      <td>920</td>\n",
       "    </tr>\n",
       "    <tr>\n",
       "      <th>1</th>\n",
       "      <td>35+</td>\n",
       "      <td>950</td>\n",
       "      <td>130</td>\n",
       "      <td>1080</td>\n",
       "    </tr>\n",
       "    <tr>\n",
       "      <th>2</th>\n",
       "      <td>TOTAL</td>\n",
       "      <td>1700</td>\n",
       "      <td>300</td>\n",
       "      <td>2000</td>\n",
       "    </tr>\n",
       "  </tbody>\n",
       "</table>\n",
       "</div>"
      ],
      "text/plain": [
       "  Unnamed: 0    si   no  TOTAL\n",
       "0      18-34   750  170    920\n",
       "1        35+   950  130   1080\n",
       "2      TOTAL  1700  300   2000"
      ]
     },
     "execution_count": 25,
     "metadata": {},
     "output_type": "execute_result"
    }
   ],
   "source": [
    "#problema 1\n",
    "pandas.read_excel(\"problema6.xlsx\")"
   ]
  },
  {
   "cell_type": "code",
   "execution_count": 45,
   "metadata": {},
   "outputs": [
    {
     "name": "stdout",
     "output_type": "stream",
     "text": [
      "b) Probabilidad 18-34: 0.46\n",
      "b) Probabilidad 35+: 0.54\n",
      "c) Probabilidad de no tener seguro 0.15\n",
      "d) Dado que 18-34, probabilidad de no tener seguro 0.18478260869565216\n",
      "e) Dado que 35+, probabilidad de no tener seguro 0.12037037037037036\n",
      "f) Dado que no tiene seguro, probabilidad de 18-34 0.5666666666666667\n"
     ]
    }
   ],
   "source": [
    "#problema 2\n",
    "print(\"b) Probabilidad 18-34:\",920/2000)\n",
    "print(\"b) Probabilidad 35+:\",1080/2000)\n",
    "print(\"c) Probabilidad de no tener seguro\",300/2000)\n",
    "print(\"d) Dado que 18-34, probabilidad de no tener seguro\",170/920)\n",
    "print(\"e) Dado que 35+, probabilidad de no tener seguro\",130/1080)\n",
    "print(\"f) Dado que no tiene seguro, probabilidad de 18-34\",170/300)"
   ]
  },
  {
   "cell_type": "code",
   "execution_count": 1,
   "metadata": {},
   "outputs": [
    {
     "name": "stdout",
     "output_type": "stream",
     "text": [
      "d) Probabilidad de tener 18-34 y no tener seguro 0.085\n",
      "e) Probabilidad de tener 35+ y no tener seguro 0.065\n",
      "f) Probabilidad de no tener seguro \n",
      "0.085\n"
     ]
    }
   ],
   "source": [
    "#problema 2\n",
    "\n",
    "print(\"d) Probabilidad de tener 18-34 y no tener seguro\",920/2000*170/920)\n",
    "print(\"e) Probabilidad de tener 35+ y no tener seguro\",1080/2000*130/1080)\n",
    "print(\"f) Probabilidad de no tener seguro \")\n",
    "print(170/2000)"
   ]
  },
  {
   "cell_type": "markdown",
   "metadata": {},
   "source": [
    "#### Puedes complementar con los ejercicios del 33 al 40 del Capitula 4 del libro \"ESTADÍSTICA PARA ADMINISTRACIÓN Y ECONOMÍA\""
   ]
  },
  {
   "cell_type": "markdown",
   "metadata": {},
   "source": [
    "33. Una muestra de estudiantes de la maestría en administración de negocios, arrojó la siguiente información sobre la principal razón que tuvieron los estudiantes para elegir la escuela en donde hacen sus estudios.\n",
    "\n",
    "(Grafico en pagina 169)\n",
    "\n",
    "- a. Con estos datos elabore una tabla de probabilidad conjunta.\n",
    "- b. Use las probabilidades marginales: calidad de la escuela, costo de la escuela y otras para comentar cuál es la principal razón por la que eligen una escuela.\n",
    "- c. Si es un estudiante de tiempo completo, ¿cuál es la probabilidad de que la principal razón para su elección de la escuela haya sido la calidad de la escuela?\n",
    "- d. Si es un estudiante de medio tiempo, ¿cuál es la probabilidad de que la principal razón para su elección de la escuela haya sido la calidad de la escuela?\n",
    "- e. Si A denota el evento es estudiante de tiempo completo y B denota el evento la calidad de la escuela fue la primera razón para su elección, ¿son independientes los eventos A y B? Justifique su respuesta."
   ]
  },
  {
   "cell_type": "markdown",
   "metadata": {},
   "source": [
    "34. La tabla siguiente muestra las probabilidades de los distintos tipos sanguíneo en la población.\n",
    "\n",
    "(Gráfico en página 170)\n",
    "- a. ¿Cuál es la probabilidad de que una persona tenga sangre tipo O?\n",
    "- b. ¿De que tenga sangre Rh-?\n",
    "- c. ¿Cuál es la probabilidad de que una persona sea Rh- dado que la persona tiene sangre tipo O?\n",
    "- d. ¿Cuál es la probabilidad de que una persona tenga sangre tipo B dado que es Rh+?\n",
    "- e. ¿Cuál es la probabilidad de que en un matrimonio, los dos sean Rh-?\n",
    "- f. ¿Cuál es la probabilidad de que en un matrimonio, los dos tengan sangre AB?"
   ]
  },
  {
   "cell_type": "markdown",
   "metadata": {},
   "source": [
    "35. El Departamento de Estadística Laboral de Estados Unidos reúne datos sobre las ocupaciones de las personas entre 25 y 64 años. La tabla siguiente presenta el número de hombres y mujeres (en millones) en cada una de las categorías ocupacionales.\n",
    "\n",
    "(Gráfico en página 170)\n",
    "\n",
    "- a. Desarrolle una tabla de probabilidad conjunta.\n",
    "- b. ¿Cuál es la probabilidad de que un trabajador mujer sea directivo o profesional?\n",
    "- c. ¿Cuál es la probabilidad de que un trabajador hombre esté en producción con precisión?\n",
    "- d. ¿Es la ocupación independiente del género? Justifique su respuesta con el cálculo de la probabilidad."
   ]
  },
  {
   "cell_type": "markdown",
   "metadata": {},
   "source": [
    "36. Reggie Miller de los Indiana Pacers tiene el record de la National Basketball Association de máscanastas de 3 puntos anotadas en toda una carrera, acertando en 85% de sus tiros (USA Today, 22 de enero de 2004). Suponga que ya casi al final de un juego cometen una falta contra él y le conceden dos tiros.\n",
    "\n",
    "- a. ¿Cuál es la probabilidad de que acierte en los dos tiros?\n",
    "- b. ¿De que acierte en por lo menos uno de los dos tiros?\n",
    "- c. ¿De que no acierte en ninguno de los dos tiros?\n",
    "- d. Al final de un juego de básquetbol suele ocurrir que cometan faltas contra un jugador del equipo opuesto para detener el reloj del juego. La estrategia usual es cometer una falta contra el peor tirador del otro equipo. Suponga que el centro de los Indiana Pacers acierta 58% de sus tiros. Calcule para él las probabilidades calculadas en los incisos a, b y c y muestre que hacer una falta intencional contra el centro de los Indiana Pacers es mejor que hacerlo contra Reggie Miller."
   ]
  },
  {
   "cell_type": "markdown",
   "metadata": {},
   "source": [
    "37. Visa Card de Estados Unidos estudia con qué frecuencia usan sus tarjetas (de débito y de crédito) los consumidores jóvenes, entre 18 y 24 años. Los resultados del estudio proporcionan las probabilidades siguientes.\n",
    "\n",
    "• La probabilidad de que un consumidor use su tarjeta al hacer una compra es 0.37.\n",
    "\n",
    "• Dado que un consumidor usa su tarjeta, la probabilidad de que tenga entre 18 y 24 años es 0.19.\n",
    "\n",
    "• Puesto que un consumidor usa su tarjeta, la probabilidad de que sea mayor de 24 años es 0.81.\n",
    "\n",
    "Datos de la Oficina de Censos de Estados Unidos indican que 14% de los consumidores tienen entre 18 y 24 años.\n",
    "\n",
    "- a. Ya que un consumidor tiene entre 18 y 24 años, ¿cuál es la probabilidad de que use su tarjeta?\n",
    "- b. Dado que un consumidor tiene más de 24 años, ¿cuál es la probabilidad de que use su tarjeta?\n",
    "- c. ¿Qué interpretación se le da a las probabilidades de los incisos a y b?\n",
    "- d. ¿Empresas como Visa, Master Card y Discover deben proporcionar tarjetas a los consumidores entre 18 y 24 años, antes de que tengan una historia crediticia? Si no, explique. Si sí, ¿qué restricciones deben poner las empresas a estos consumidores?"
   ]
  },
  {
   "cell_type": "markdown",
   "metadata": {},
   "source": [
    "38. En un estudio de Morgan Stanley Consumer Research se muestrearon hombres y mujeres y se les preguntó qué preferían tomar: agua de botella o una bebida deportiva como Gatorade o Propel Fitness (The Atlanta Journal-Constitution, 28 de diciembre de 2005). Suponga que en el estudio hayan participado 200 hombres y 200 mujeres y que de todos 280 hayan preferido el agua de botella. En el grupo de los que preferían bebidas deportivas, 80 eran hombres y 40 eran mujeres. Sea:\n",
    "\n",
    "M = el evento el consumidor es hombre\n",
    "\n",
    "W = el evento el consumidor es mujer\n",
    "\n",
    "B = el evento el consumidor prefiere agua de botella\n",
    "\n",
    "S = el evento el consumidor prefiere una bebida deportiva\n",
    "\n",
    "- a. ¿Cuál es la probabilidad de que en este estudio una persona prefiera agua de botella?\n",
    "- b. ¿De que en este estudio una persona prefiera una bebida deportiva?\n",
    "- c. ¿Cuáles son las probabilidades condicionales P(M | S) y P(W | S)?\n",
    "- d. ¿Cuáles son las probabilidades conjuntas P(M ∩ S) y P(W ∩ S)?\n",
    "- e. Dado que un consumidor es hombre, ¿cuál es la probabilidad de que prefiera una bebida deportiva?\n",
    "- f. Ya que un consumidor es mujer, ¿cuál es la probabilidad de que prefiera una bebida deportiva?\n",
    "- g. ¿Depende la preferencia por una bebida deportiva de que el consumidor sea hombre o mujer? Explique usando la información sobre las probabilidades."
   ]
  },
  {
   "cell_type": "markdown",
   "metadata": {},
   "source": [
    "39. Las probabilidades previas de los eventos A1 y A2 son P(A1) = 0.40 y P(A2) = 0.60. Sabe también que P(A1 ∩ A2) = 0. Suponga que P(B | A1) =  0.20 y P(B | A2) = 0.05.\n",
    "- a. ¿A1 y A2 son eventos mutuamente excluyentes? Explique.\n",
    "- b. Calcule P(A1 ∩ B) y P(A2 ∩ B).\n",
    "- c. Calcule P(B).\n",
    "- d. Emplee el teorema de Bayes para calcular P(A1 | B) y P(A2 | B)."
   ]
  },
  {
   "cell_type": "markdown",
   "metadata": {},
   "source": [
    "40. Las probabilidades previas de los eventos A1, A2 y A3 son P(A1) = 0.20, P(A2) = 0.50 y P(A3) = 0.30. Las probabilidades condicionales del evento B dados los eventos A1,A2 y A3 son P(B | A1) = 0.50, P(B | A2) = 0.40 y P(B | A3) = 0.30.\n",
    "- a. Calcule P(B ∩ A1), P(B ∩ A2) y P(B ∩ A3).\n",
    "- b. Emplee el teorema de Bayes, ecuación (4.19), para calcular la probabilidad posterior P(A2 | B).\n",
    "- c. Use el método tabular para emplear el teorema de Bayes en el cálculo de P(A1 | B), P(A2 | B) y P(A3 | B)."
   ]
  },
  {
   "cell_type": "code",
   "execution_count": 27,
   "metadata": {},
   "outputs": [],
   "source": [
    "class Solution:\n",
    "    def isIsomorphic(s: str, t: str) -> bool:\n",
    "        if len (s) != len(t):\n",
    "            return False\n",
    "        sl={}\n",
    "        tl={}\n",
    "        for i in s:\n",
    "            if i not in sl.keys():\n",
    "                sl[i]=1\n",
    "            else:\n",
    "                sl[i]+=1\n",
    "        sl=list(sl.values())\n",
    "        for i in t:\n",
    "            if i not in tl.keys():\n",
    "                tl[i]=1\n",
    "            else:\n",
    "                tl[i]+=1\n",
    "        tl=list(tl.values())\n",
    "        print(tl.sort())\n",
    "        if tl.sort()==sl.sort:\n",
    "            return True\n",
    "        return False\n"
   ]
  },
  {
   "cell_type": "code",
   "execution_count": 25,
   "metadata": {},
   "outputs": [],
   "source": [
    "s =\"egg\"\n",
    "t =\"add\""
   ]
  },
  {
   "cell_type": "code",
   "execution_count": 28,
   "metadata": {},
   "outputs": [
    {
     "data": {
      "text/plain": [
       "False"
      ]
     },
     "execution_count": 28,
     "metadata": {},
     "output_type": "execute_result"
    }
   ],
   "source": [
    "Solution.isIsomorphic(s,t)"
   ]
  }
 ],
 "metadata": {
  "kernelspec": {
   "display_name": "Python 3.9.12 ('base')",
   "language": "python",
   "name": "python3"
  },
  "language_info": {
   "codemirror_mode": {
    "name": "ipython",
    "version": 3
   },
   "file_extension": ".py",
   "mimetype": "text/x-python",
   "name": "python",
   "nbconvert_exporter": "python",
   "pygments_lexer": "ipython3",
   "version": "3.9.12"
  },
  "orig_nbformat": 4,
  "vscode": {
   "interpreter": {
    "hash": "c33fe9d768a1a9936a7252add300d83124dd92b8ca9d2a9c4b90edcad580ba01"
   }
  }
 },
 "nbformat": 4,
 "nbformat_minor": 2
}
